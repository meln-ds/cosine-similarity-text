{
 "cells": [
  {
   "cell_type": "markdown",
   "metadata": {},
   "source": [
    "This is my optimized code for calculating the cosine similarity between two text documents. Fundamentally, I used Counter to significantly reduce the processing time, and also use .extend() instead of concatenating two lists."
   ]
  },
  {
   "cell_type": "code",
   "execution_count": 1,
   "metadata": {},
   "outputs": [],
   "source": [
    "import math\n",
    "import string\n",
    "import sys\n",
    "import re\n",
    "from collections import Counter\n",
    "\n",
    "\n",
    "def read_file(filename):\n",
    "    \"\"\"Read a .txt file and return a sorted dictionary of all the unique words in that file,\n",
    "    sorted alphabetically. The value of each word is the number of occurences for that word in the file.\n",
    "    \"\"\"\n",
    "    try:\n",
    "        fp = open(filename)\n",
    "        L = fp.readlines()\n",
    "        word_list = []\n",
    "        sorted_dict = {}\n",
    "        for line in L:\n",
    "            words_in_line = [x.lower() for x in re.split(\"[^A-Za-z0-9]\",line) if x]\n",
    "            word_list.extend(words_in_line)\n",
    "        unsorted_dict = dict(Counter(word_list))\n",
    "        sorted_keys = sorted(unsorted_dict.keys())\n",
    "        for key in sorted_keys:\n",
    "            sorted_dict[key] = unsorted_dict[key]\n",
    "    except IOError as excObj:\n",
    "        print(str(excObj))\n",
    "        print(\"Error opening or reading input file: \" + filename)\n",
    "        sys.exit()\n",
    "    return sorted_dict\n",
    "\n",
    "\n",
    "def inner_product(D1,D2):\n",
    "    \"\"\"Calculate the inner product between two vectors, \n",
    "    in this case two documents represented as two sorted dictionaries.\n",
    "    \"\"\"\n",
    "    sum = 0.0\n",
    "    i = 0\n",
    "    j = 0\n",
    "    L1 = list(D1.keys())\n",
    "    L2 = list(D2.keys())\n",
    "    while i<len(L1) and j<len(L2):\n",
    "        if L1[i] == L2[j]:\n",
    "            # both vectors have this word\n",
    "            sum += D1[L1[i]] * D2[L2[j]]\n",
    "            i += 1\n",
    "            j += 1\n",
    "        elif L1[i] < L2[j]:\n",
    "            # word L1[i] is in L1 but not L2\n",
    "            i += 1\n",
    "        else:\n",
    "            # word L2[j] is in L2 but not L1\n",
    "            j += 1\n",
    "    return sum\n",
    "\n",
    "def vector_angle(D1,D2):\n",
    "    numerator = inner_product(D1,D2)\n",
    "    denominator = math.sqrt(inner_product(D1,D1)*inner_product(D2,D2))\n",
    "    return numerator/denominator\n",
    "\n",
    "def document_similarity(filename_1, filename_2, verbose=True):\n",
    "    sorted_word_1 = read_file(filename_1)\n",
    "    sorted_word_2 = read_file(filename_2)\n",
    "    cosine = vector_angle(sorted_word_1,sorted_word_2)\n",
    "    # Use f-strings; see https://realpython.com/python-f-strings/ for more information\n",
    "    if verbose:\n",
    "        print(f\"The cosine between the documents is {cosine : 0.6f}.\")\n",
    "        print(f\"The angle between the documents is {math.acos(cosine) : 0.6f} radians or {math.acos(cosine)*180/math.pi : .0f} degrees.\")"
   ]
  },
  {
   "cell_type": "code",
   "execution_count": 2,
   "metadata": {},
   "outputs": [
    {
     "name": "stdout",
     "output_type": "stream",
     "text": [
      "The cosine between the documents is  0.895120.\n",
      "The angle between the documents is  0.462095 radians or  26 degrees.\n"
     ]
    }
   ],
   "source": [
    "document_similarity('data/t5.churchill.txt','data/t8.shakespeare.txt')"
   ]
  },
  {
   "cell_type": "code",
   "execution_count": 3,
   "metadata": {},
   "outputs": [
    {
     "name": "stdout",
     "output_type": "stream",
     "text": [
      "3.06 s ± 250 ms per loop (mean ± std. dev. of 7 runs, 1 loop each)\n"
     ]
    }
   ],
   "source": [
    "%timeit document_similarity('data/t5.churchill.txt','data/t8.shakespeare.txt',verbose=False)"
   ]
  },
  {
   "cell_type": "markdown",
   "metadata": {},
   "source": [
    "The time taken is somewhere in the 2.5-3s region for a 10MB document, but I'm not overly happy with this, knowing I can bring it down further. Here are some ideas from MADS classmates, one I picked particularly for the same use of Counter."
   ]
  },
  {
   "cell_type": "code",
   "execution_count": 4,
   "metadata": {},
   "outputs": [],
   "source": [
    "from functools import lru_cache\n",
    "\n",
    "def read_file_2(filename1,filename2):\n",
    "    try:\n",
    "        with open(filename1) as fp1, open(filename2) as fp2:\n",
    "            L1 = fp1.readlines()\n",
    "            L2 = fp2.readlines()\n",
    "    except IOError as excObj:\n",
    "        print(str(excObj))\n",
    "        print(\"Error opening or reading input file: \" + filename)\n",
    "        sys.exit()\n",
    "    return L1, L2\n",
    "\n",
    "@lru_cache(maxsize=None)\n",
    "def get_words_from_string(line):\n",
    "    word_list = []          # accumulates words in line\n",
    "    character_list = []     # accumulates characters in word\n",
    "    for c in line:\n",
    "        if c.isalnum():\n",
    "            character_list.append(c)\n",
    "        elif len(character_list)>0:\n",
    "            word = str.join(\"\", character_list)\n",
    "            word = str.lower(word)\n",
    "            word_list.append(word)\n",
    "            character_list = []\n",
    "    if len(character_list)>0:\n",
    "        word = str.join(\"\", character_list)\n",
    "        word = str.lower(word)\n",
    "        word_list.append(word)\n",
    "    return word_list\n",
    "\n",
    "def get_words_from_line_list(L):\n",
    "    word_list = []\n",
    "    for line in L:\n",
    "        words_in_line = get_words_from_string(line)\n",
    "        if not word_list:\n",
    "            for words in words_in_line:\n",
    "                word_list.append(words)\n",
    "        else:\n",
    "            word_list.extend(words_in_line)\n",
    "    return Counter(word_list) #interesting use of counter here!\n",
    "\n",
    "def vector_angle(c1,c2):\n",
    "    # new syntax that I have never used. also, interesting way to calc vector angle using Counter\n",
    "    numerator = sum(c1[n]*c2[n] for n in c1)\n",
    "    denominator = math.sqrt(sum(c1[n]*c1[n] for n in c1)*sum(c2[n]*c2[n] for n in c2))\n",
    "    return numerator/denominator\n",
    "\n",
    "def document_similarity_2(filename1,filename2,verbose=True):\n",
    "    file1, file2 = read_file_2(filename1,filename2)\n",
    "    counter1 = get_words_from_line_list(file1)\n",
    "    counter2 = get_words_from_line_list(file2)\n",
    "    cosine = vector_angle(counter1,counter2)\n",
    "    if verbose:\n",
    "        print(\"File\",filename1,\":\", len(file1),\"lines,\", sum(counter1.values()),\"words,\", len(counter1),\"distinct words\")\n",
    "        print(\"File\",filename2,\":\", len(file2),\"lines,\", sum(counter2.values()),\"words,\", len(counter2),\"distinct words\")\n",
    "        print(f\"The cosine between the documents is {cosine : 0.6f}.\")\n",
    "        print(f\"The angle between the documents is {math.acos(cosine) : 0.6f} radians or {math.acos(cosine)*180/math.pi : .0f} degrees.\")"
   ]
  },
  {
   "cell_type": "code",
   "execution_count": 5,
   "metadata": {},
   "outputs": [
    {
     "name": "stdout",
     "output_type": "stream",
     "text": [
      "File data/t5.churchill.txt : 189685 lines, 1717247 words, 32544 distinct words\n",
      "File data/t8.shakespeare.txt : 124456 lines, 929462 words, 23881 distinct words\n",
      "The cosine between the documents is  0.895120.\n",
      "The angle between the documents is  0.462095 radians or  26 degrees.\n"
     ]
    }
   ],
   "source": [
    "document_similarity_2('data/t5.churchill.txt','data/t8.shakespeare.txt')"
   ]
  },
  {
   "cell_type": "code",
   "execution_count": 6,
   "metadata": {},
   "outputs": [
    {
     "name": "stdout",
     "output_type": "stream",
     "text": [
      "726 ms ± 25.4 ms per loop (mean ± std. dev. of 7 runs, 1 loop each)\n"
     ]
    }
   ],
   "source": [
    "%timeit document_similarity_2('data/t5.churchill.txt','data/t8.shakespeare.txt',verbose=False)"
   ]
  },
  {
   "cell_type": "markdown",
   "metadata": {},
   "source": [
    "It's down to miliseconds ! "
   ]
  }
 ],
 "metadata": {
  "kernelspec": {
   "display_name": "Python 3",
   "language": "python",
   "name": "python3"
  },
  "language_info": {
   "codemirror_mode": {
    "name": "ipython",
    "version": 3
   },
   "file_extension": ".py",
   "mimetype": "text/x-python",
   "name": "python",
   "nbconvert_exporter": "python",
   "pygments_lexer": "ipython3",
   "version": "3.6.4"
  }
 },
 "nbformat": 4,
 "nbformat_minor": 2
}
